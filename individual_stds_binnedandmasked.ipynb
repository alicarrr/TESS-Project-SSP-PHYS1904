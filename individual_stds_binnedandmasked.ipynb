{
 "cells": [
  {
   "cell_type": "code",
   "execution_count": 3,
   "metadata": {},
   "outputs": [
    {
     "name": "stdout",
     "output_type": "stream",
     "text": [
      "SearchResult containing 1 data products.\n",
      "\n",
      " #     mission     year author exptime target_name distance\n",
      "                                  s                 arcsec \n",
      "--- -------------- ---- ------ ------- ----------- --------\n",
      "  0 TESS Sector 62 2023   SPOC      20   296780789      0.0\n",
      "SearchResult containing 3 data products.\n",
      "\n",
      " #     mission     year author exptime target_name distance\n",
      "                                  s                 arcsec \n",
      "--- -------------- ---- ------ ------- ----------- --------\n",
      "  0 TESS Sector 08 2019   SPOC     120   296780789      0.0\n",
      "  1 TESS Sector 35 2021   SPOC     120   296780789      0.0\n",
      "  2 TESS Sector 62 2023   SPOC     120   296780789      0.0\n"
     ]
    }
   ],
   "source": [
    "import lightkurve as lk\n",
    "%matplotlib inline\n",
    "toi = 573\n",
    "tic = 296780789\n",
    "search_result1 = lk.search_lightcurve('TIC'+str(tic), mission='TESS', exptime=20)\n",
    "search_result2 = lk.search_lightcurve('TIC'+str(tic), mission='TESS', exptime=120)\n",
    "print(search_result1)\n",
    "print(search_result2)"
   ]
  },
  {
   "cell_type": "code",
   "execution_count": 30,
   "metadata": {},
   "outputs": [
    {
     "name": "stderr",
     "output_type": "stream",
     "text": [
      "C:\\Users\\Hamish\\AppData\\Local\\Temp\\ipykernel_17508\\461898692.py:48: LightkurveDeprecationWarning: \"binsize\" was deprecated in version 2.0 and will be removed in a future version. \n",
      "        Use time_bin_size instead.\n",
      "  lc_binned1=lc1.bin(binsize=6)\n"
     ]
    },
    {
     "name": "stdout",
     "output_type": "stream",
     "text": [
      "0.014424563 0.012079027\n",
      "0.009564497 0.0052509075\n",
      "0.009678283587898214 0.005610571084827123\n"
     ]
    }
   ],
   "source": [
    "lc_collection1 = search_result1[0].download()\n",
    "lc_collection2 = search_result2[2].download()\n",
    "\n",
    "lc1 = lc_collection1.normalize().remove_outliers(sigma_upper=3, sigma_lower=float('inf'))\n",
    "lc2 = lc_collection2.normalize().remove_outliers(sigma_upper=3, sigma_lower=float('inf'))\n",
    "\n",
    "import numpy as np\n",
    "# Create array of periods to search\n",
    "period = np.linspace(0.5, 20, 10000)\n",
    "# Create a BLSPeriodogram\n",
    "\n",
    "bls1 = lc1.to_periodogram(method='bls', period=period, frequency_factor=500);\n",
    "bls2 = lc2.to_periodogram(method='bls', period=period, frequency_factor=500);\n",
    "\n",
    "\n",
    "planet_b_period1 = bls1.period_at_max_power\n",
    "planet_b_t01 = bls1.transit_time_at_max_power\n",
    "planet_b_dur1 = bls1.duration_at_max_power\n",
    "planet_b_depth1 = bls1.depth_at_max_power\n",
    "planet_b_period2 = bls2.period_at_max_power\n",
    "planet_b_t02 = bls2.transit_time_at_max_power\n",
    "planet_b_dur2 = bls2.duration_at_max_power\n",
    "planet_b_depth2 = bls2.depth_at_max_power\n",
    "\n",
    "planet_b_mask1 = bls1.get_transit_mask(period=planet_b_period1,\n",
    "                                     transit_time=planet_b_t01,\n",
    "                                     duration=planet_b_dur1)\n",
    "planet_b_mask2 = bls2.get_transit_mask(period=planet_b_period2,\n",
    "                                     transit_time=planet_b_t02,\n",
    "                                     duration=(planet_b_dur2+planet_b_dur2*0.12))\n",
    "\n",
    "x = lc1.to_pandas()\n",
    "y = lc2.to_pandas()\n",
    "x_std = x['flux'].std()\n",
    "y_std = y['flux'].std()\n",
    "\n",
    "masked_lc1 = lc1[~planet_b_mask1]\n",
    "masked_lc2 = lc2[~planet_b_mask2]\n",
    "\n",
    "masked_x = masked_lc1.to_pandas()\n",
    "maskedx_std = masked_x['flux'].std()\n",
    "\n",
    "masked_y = masked_lc2.to_pandas()\n",
    "maskedy_std = masked_y['flux'].std()\n",
    "\n",
    "\n",
    "# lc_binned1=lc1.bin(time_bin_size=0.00139)\n",
    "lc_binned1=lc1.bin(binsize=6)\n",
    "binnedx = lc_binned1.to_pandas()\n",
    "binnedx_std = binnedx['flux'].std()\n",
    "\n",
    "\n",
    "\n",
    "bls3 = lc_binned1.to_periodogram(method='bls', period=period, frequency_factor=500);\n",
    "planet_binned_period1 = bls3.period_at_max_power\n",
    "planet_binned_t01 = bls3.transit_time_at_max_power\n",
    "planet_binned_dur1 = bls3.duration_at_max_power\n",
    "planet_binned_depth1 = bls3.depth_at_max_power\n",
    "\n",
    "\n",
    "planet_b_mask_binned = bls3.get_transit_mask(period=planet_binned_period1,\n",
    "                                     transit_time=planet_binned_t01,\n",
    "                                     duration=planet_binned_dur1)\n",
    "\n",
    "masked_binned_lc1 = lc_binned1[~planet_b_mask_binned]\n",
    "masked_binned = masked_binned_lc1.to_pandas()\n",
    "masked_binned_std = masked_binned['flux'].std()\n",
    "\n",
    "# bls1 = lc_binned1.to_periodogram(method='bls', period=period, frequency_factor=500);\n",
    "\n",
    "print(x_std,maskedx_std)\n",
    "print(y_std,maskedy_std)\n",
    "print(binnedx_std,masked_binned_std)\n"
   ]
  }
 ],
 "metadata": {
  "kernelspec": {
   "display_name": "Python 3",
   "language": "python",
   "name": "python3"
  },
  "language_info": {
   "name": "python",
   "version": "3.11.5"
  }
 },
 "nbformat": 4,
 "nbformat_minor": 2
}
